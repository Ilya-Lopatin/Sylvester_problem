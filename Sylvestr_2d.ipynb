{
  "nbformat": 4,
  "nbformat_minor": 0,
  "metadata": {
    "colab": {
      "name": "Sylvestr_2d.ipynb",
      "provenance": [],
      "authorship_tag": "ABX9TyP3d+7B7RNa773O8Px/wRax",
      "include_colab_link": true
    },
    "kernelspec": {
      "name": "python3",
      "display_name": "Python 3"
    },
    "language_info": {
      "name": "python"
    }
  },
  "cells": [
    {
      "cell_type": "markdown",
      "metadata": {
        "id": "view-in-github",
        "colab_type": "text"
      },
      "source": [
        "<a href=\"https://colab.research.google.com/github/Ilya-Lopatin/Sylvester_problem/blob/main/Sylvestr_2d.ipynb\" target=\"_parent\"><img src=\"https://colab.research.google.com/assets/colab-badge.svg\" alt=\"Open In Colab\"/></a>"
      ]
    },
    {
      "cell_type": "code",
      "execution_count": 1,
      "metadata": {
        "id": "4stt4h5pdAPo"
      },
      "outputs": [],
      "source": [
        "import numpy as np\n",
        "import numpy.linalg as la\n",
        "import numpy.random as rand\n",
        "import matplotlib.pyplot as plt\n",
        "import matplotlib.patches as patches\n",
        "\n",
        "from numpy.linalg import norm\n",
        "from numpy.linalg import det\n",
        "\n",
        "\n",
        "m_zero = 1e-7"
      ]
    },
    {
      "cell_type": "code",
      "source": [
        "def get_cyrcle_2d (a, b, c):\n",
        "\n",
        "    def get_matrix_det (f, s):\n",
        "        A = np.vstack( (f, s) )\n",
        "        A = A.T\n",
        "        on = np.array( [ [1], [1], [1]] )\n",
        "        A = np.hstack((A, on))\n",
        "        return det(A)\n",
        "\n",
        "    x = np.array( [ a[0], b[0], c[0]  ] )\n",
        "    y = np.array( [ a[1], b[1], c[1]  ] )\n",
        "    vn = np.array( [ norm(a)**2, norm(b)**2, norm(c)**2 ] )\n",
        "\n",
        "    det0 = get_matrix_det(x, y)\n",
        "    detx = get_matrix_det(vn, y)\n",
        "    dety = -get_matrix_det(vn, x)\n",
        "\n",
        "    center = np.array([ detx, dety]) / (2*det0)\n",
        "    r = norm( a - center )\n",
        "\n",
        "    return center, r\n",
        "\n",
        "def check_in (x, a, b, c):\n",
        "    \n",
        "    def get_square (a, b, c):\n",
        "        r1 = b - c\n",
        "        r2 = a - c\n",
        "        A = np.vstack( (r1, r2) )\n",
        "        return abs( det(A) )\n",
        "    \n",
        "    S0 =  get_square (a, b, c)\n",
        "    S1 =  get_square (x, b, c)\n",
        "    S2 =  get_square (x, a, c)\n",
        "    S3 =  get_square (x, a, b)\n",
        "\n",
        "    return bool ( abs( S0 - (S1+S2+S3) ) < m_zero )   \n",
        "\n",
        "def check_covering ( center, radius, Data ) :\n",
        "    for i in range ( len(Data[0]) ) :\n",
        "        if norm( Data[:, i] - center  ) - m_zero > radius :\n",
        "            return False\n",
        "    return True           \n"
      ],
      "metadata": {
        "id": "-NASB_6jdQ73"
      },
      "execution_count": 2,
      "outputs": []
    },
    {
      "cell_type": "code",
      "source": [
        "kol = 10\n",
        "Points = rand.sample((2, kol))\n",
        "scal = 1\n",
        "delta = scal* rand.sample((2, 1))\n",
        "Data = scal * Points - delta"
      ],
      "metadata": {
        "id": "cUOSV3rCdnh3"
      },
      "execution_count": 3,
      "outputs": []
    },
    {
      "cell_type": "code",
      "source": [
        "plt.plot( Data[0] , Data[1] , 'ob' )\n",
        "ax = plt.gca()\n",
        "ax.spines['top'].set_visible(False)\n",
        "ax.spines['right'].set_visible(False)\n",
        "plt.axis('equal')\n",
        "plt.show()"
      ],
      "metadata": {
        "colab": {
          "base_uri": "https://localhost:8080/",
          "height": 265
        },
        "id": "ezF_yXvIeFyK",
        "outputId": "32473686-b168-4873-a7ac-81bcc5c19895"
      },
      "execution_count": 4,
      "outputs": [
        {
          "output_type": "display_data",
          "data": {
            "text/plain": [
              "<Figure size 432x288 with 1 Axes>"
            ],
            "image/png": "[encoded data removed]"
          },
          "metadata": {
            "needs_background": "light"
          }
        }
      ]
    },
    {
      "cell_type": "code",
      "source": [
        "center_f, radius_f = [0, 0], 1 #future answer"
      ],
      "metadata": {
        "id": "CkjzxRIIeJJj"
      },
      "execution_count": 5,
      "outputs": []
    },
    {
      "cell_type": "code",
      "source": [
        "flag_success = False\n",
        "for i in range( kol - 1 ) :\n",
        "    for j in range( i+1, kol) :\n",
        "        c = ( Data[ :,i] + Data[ :,j] ) * 0.5\n",
        "        r = norm( Data[ :,i] - c )\n",
        "        flag2 = check_covering(c, r, Data)\n",
        "        if ( flag2 == True ):\n",
        "            center_f, radius_f = c, r\n",
        "            flag_success = True\n",
        "            break \n",
        "\n",
        "if flag_success == False:\n",
        "    for i in range (kol - 2):\n",
        "        for j in range ( i+1, kol-1):\n",
        "            for q in range ( j+1, kol ):\n",
        "                a1 = np.array( [ Data[0, i], Data[1, i]  ] )\n",
        "                a2 = np.array( [ Data[0, j], Data[1, j]  ] )\n",
        "                a3 = np.array( [ Data[0, q], Data[1, q]  ] )\n",
        "                c, r = get_cyrcle_2d ( a1,  a2, a3 )\n",
        "                flag_covering = check_covering (c, r, Data)\n",
        "                if flag_covering == True:\n",
        "                    flag_minimum = check_in ( np.array( [0,0] ),  a1 - c, a2 - c , a3 - c)\n",
        "                    if flag_minimum == True:\n",
        "                        center_f, radius_f = c, r\n",
        "                        break      "
      ],
      "metadata": {
        "id": "bQ6vqnoTeLd1"
      },
      "execution_count": 6,
      "outputs": []
    },
    {
      "cell_type": "code",
      "source": [
        "plt.figure()\n",
        "ax = plt.gca()\n",
        "\n",
        "circle = patches.Circle(center_f, radius_f, edgecolor='g', fc='None', lw=2, facecolor='none')\n",
        "ax.add_patch(circle)\n",
        "\n",
        "plt.plot( Data[0] , Data[1] , 'ob' )\n",
        "plt.scatter(center_f[0] , center_f[1], color='orange', marker='x')\n",
        "\n",
        "ax.spines['top'].set_visible(False)\n",
        "ax.spines['right'].set_visible(False)\n",
        "plt.axis('equal')\n",
        "plt.plot()\n",
        "print( f\"center:{center_f}\")\n",
        "print(f\"r={radius_f}\")"
      ],
      "metadata": {
        "colab": {
          "base_uri": "https://localhost:8080/",
          "height": 300
        },
        "id": "VV-ZZIRCe0id",
        "outputId": "c4369924-d1ea-45cc-9a05-69a95e3c2a98"
      },
      "execution_count": 7,
      "outputs": [
        {
          "output_type": "stream",
          "name": "stdout",
          "text": [
            "center:[0.41589227 0.06289582]\n",
            "r=0.4452565573272402\n"
          ]
        },
        {
          "output_type": "display_data",
          "data": {
            "text/plain": [
              "<Figure size 432x288 with 1 Axes>"
            ],
            "image/png": "[encoded data removed]"
          },
          "metadata": {
            "needs_background": "light"
          }
        }
      ]
    }
  ]
}